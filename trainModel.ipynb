{
 "cells": [
  {
   "cell_type": "markdown",
   "metadata": {},
   "source": [
    "#Script Para Entrenar Nuestro Modelo Yolo"
   ]
  },
  {
   "cell_type": "code",
   "execution_count": null,
   "metadata": {},
   "outputs": [],
   "source": [
    "from ultralytics import YOLO\n",
    "\n",
    "# Ruta al archivo de configuración .yaml que especifica las rutas de los datos y las clases\n",
    "yaml_path = \"datasets/data.yaml\"\n",
    "\n",
    "# Ruta del modelo YOLO preentrenado que se usará como base\n",
    "base_model = \"yolo11n.pt\"  # Asegúrate de usar la versión correcta del modelo\n",
    "\n",
    "# Configuración de hiperparámetros para el entrenamiento\n",
    "img_size = 640          # Tamaño de las imágenes\n",
    "batch_size = 16         # Ajusta según la memoria de tu GPU\n",
    "epochs = 100            # Número de épocas\n",
    "device = \"cuda:0\"       # Especifica la GPU\n",
    "\n",
    "def train_yolo():\n",
    "    model = YOLO(base_model)\n",
    "    \n",
    "    model.train(\n",
    "        data=yaml_path,\n",
    "        imgsz=img_size,\n",
    "        batch=batch_size,\n",
    "        epochs=epochs,\n",
    "        device=device,\n",
    "        workers=4,                 # Número de trabajadores para la carga de datos\n",
    "        augment=True,              # Habilita el aumento de datos\n",
    "        verbose=True,              # Muestra información detallada durante el entrenamiento\n",
    "        # learning_rate=0.01,      # Puedes especificar una tasa de aprendizaje personalizada\n",
    "        # weight_decay=0.0005,     # Agrega regularización si es necesario\n",
    "    )\n",
    "\n",
    "if __name__ == \"__main__\":\n",
    "    train_yolo()\n"
   ]
  }
 ],
 "metadata": {
  "kernelspec": {
   "display_name": "VC_P4",
   "language": "python",
   "name": "python3"
  },
  "language_info": {
   "codemirror_mode": {
    "name": "ipython",
    "version": 3
   },
   "file_extension": ".py",
   "mimetype": "text/x-python",
   "name": "python",
   "nbconvert_exporter": "python",
   "pygments_lexer": "ipython3",
   "version": "3.12.7"
  },
  "orig_nbformat": 4
 },
 "nbformat": 4,
 "nbformat_minor": 2
}
